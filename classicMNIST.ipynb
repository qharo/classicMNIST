{
  "nbformat": 4,
  "nbformat_minor": 0,
  "metadata": {
    "colab": {
      "name": "classicMNIST.ipynb",
      "provenance": [],
      "collapsed_sections": [],
      "authorship_tag": "ABX9TyPDAujNKfBdUoT+qqaiRlJS",
      "include_colab_link": true
    },
    "kernelspec": {
      "name": "python3",
      "display_name": "Python 3"
    },
    "accelerator": "GPU"
  },
  "cells": [
    {
      "cell_type": "markdown",
      "metadata": {
        "id": "view-in-github",
        "colab_type": "text"
      },
      "source": [
        "<a href=\"https://colab.research.google.com/github/qharo/classicMNIST/blob/master/classicMNIST.ipynb\" target=\"_parent\"><img src=\"https://colab.research.google.com/assets/colab-badge.svg\" alt=\"Open In Colab\"/></a>"
      ]
    },
    {
      "cell_type": "code",
      "metadata": {
        "id": "Bz-Nr3LN3jJH"
      },
      "source": [
        "%tensorflow_version 2.x\n",
        "import tensorflow as tf\n",
        "import pandas as pd \n",
        "import numpy as np\n",
        "import matplotlib.pyplot as plt\n",
        "import os\n",
        "import keras"
      ],
      "execution_count": 1,
      "outputs": []
    },
    {
      "cell_type": "code",
      "metadata": {
        "id": "VmoU5p8_49LU",
        "outputId": "2ed50353-c0d5-459c-9f72-2a06d6bcac2a",
        "colab": {
          "base_uri": "https://localhost:8080/"
        }
      },
      "source": [
        "#GETTING THE FILE\n",
        "NUM_CLASSES = 10\n",
        "NUM_FEATURES = 784\n",
        "\n",
        "MNIST_DATA = keras.datasets.mnist\n",
        "(X_Train, Y_Train), (X_Test, Y_Test) = MNIST_DATA.load_data()"
      ],
      "execution_count": 2,
      "outputs": [
        {
          "output_type": "stream",
          "text": [
            "Downloading data from https://storage.googleapis.com/tensorflow/tf-keras-datasets/mnist.npz\n",
            "11493376/11490434 [==============================] - 0s 0us/step\n"
          ],
          "name": "stdout"
        }
      ]
    },
    {
      "cell_type": "code",
      "metadata": {
        "id": "E0ckqOhq7MX0"
      },
      "source": [
        "#PROCESSING DATA\n",
        "X_Train, X_Test = X_Train/255.0, X_Test/255.0\n",
        "X_Train = X_Train.reshape(list(X_Train.shape) + [1])\n",
        "X_Test = X_Test.reshape(list(X_Test.shape) + [1]) "
      ],
      "execution_count": 3,
      "outputs": []
    },
    {
      "cell_type": "code",
      "metadata": {
        "id": "bg19M3ALEIJI",
        "outputId": "4afb42d1-d62d-453f-d6fa-a8cb68187285",
        "colab": {
          "base_uri": "https://localhost:8080/"
        }
      },
      "source": [
        "print(Y_Train.shape)"
      ],
      "execution_count": null,
      "outputs": [
        {
          "output_type": "stream",
          "text": [
            "()\n"
          ],
          "name": "stdout"
        }
      ]
    },
    {
      "cell_type": "code",
      "metadata": {
        "id": "jZjJq48l8h6K"
      },
      "source": [
        "#CREATING THE MODEL\n",
        "model = keras.Sequential([\n",
        "      keras.layers.Conv2D(16, (3,3), activation='relu', input_shape = (28,28,1)),\n",
        "      keras.layers.MaxPool2D(2,2),\n",
        "      keras.layers.Conv2D(32, (3,3), activation=\"relu\"), \n",
        "      keras.layers.MaxPool2D(2,2),\n",
        "      keras.layers.Conv2D(64, (3,3), activation=\"relu\"),\n",
        "      keras.layers.Conv2D(128, (3,3), activation=\"relu\"),\n",
        "      keras.layers.Flatten(),\n",
        "      keras.layers.Dense(64, activation='relu'),\n",
        "      keras.layers.Dense(32, activation='relu'),\n",
        "      keras.layers.Dense(16, activation='relu'),\n",
        "      keras.layers.Dense(10),                       \n",
        "])"
      ],
      "execution_count": 4,
      "outputs": []
    },
    {
      "cell_type": "code",
      "metadata": {
        "id": "KA6R77-pBUT3",
        "outputId": "cd5b6873-c1dc-4f8e-fa39-e6e848455a82",
        "colab": {
          "base_uri": "https://localhost:8080/"
        }
      },
      "source": [
        "#COMPILING THE MODEL\n",
        "model.compile(\n",
        "    optimizer='adam', \n",
        "    loss = keras.losses.SparseCategoricalCrossentropy(from_logits=True),\n",
        "    metrics=['accuracy']\n",
        ")\n",
        "history = model.fit(X_Train, Y_Train, epochs=10, validation_data=(X_Test, Y_Test))"
      ],
      "execution_count": 5,
      "outputs": [
        {
          "output_type": "stream",
          "text": [
            "Epoch 1/10\n",
            "1875/1875 [==============================] - 7s 3ms/step - loss: 0.2043 - accuracy: 0.9357 - val_loss: 0.0646 - val_accuracy: 0.9805\n",
            "Epoch 2/10\n",
            "1875/1875 [==============================] - 6s 3ms/step - loss: 0.0634 - accuracy: 0.9808 - val_loss: 0.0515 - val_accuracy: 0.9844\n",
            "Epoch 3/10\n",
            "1875/1875 [==============================] - 6s 3ms/step - loss: 0.0463 - accuracy: 0.9863 - val_loss: 0.0461 - val_accuracy: 0.9871\n",
            "Epoch 4/10\n",
            "1875/1875 [==============================] - 6s 3ms/step - loss: 0.0357 - accuracy: 0.9892 - val_loss: 0.0329 - val_accuracy: 0.9903\n",
            "Epoch 5/10\n",
            "1875/1875 [==============================] - 6s 3ms/step - loss: 0.0298 - accuracy: 0.9910 - val_loss: 0.0373 - val_accuracy: 0.9885\n",
            "Epoch 6/10\n",
            "1875/1875 [==============================] - 6s 3ms/step - loss: 0.0257 - accuracy: 0.9920 - val_loss: 0.0323 - val_accuracy: 0.9903\n",
            "Epoch 7/10\n",
            "1875/1875 [==============================] - 6s 3ms/step - loss: 0.0231 - accuracy: 0.9932 - val_loss: 0.0423 - val_accuracy: 0.9890\n",
            "Epoch 8/10\n",
            "1875/1875 [==============================] - 6s 3ms/step - loss: 0.0197 - accuracy: 0.9941 - val_loss: 0.0376 - val_accuracy: 0.9890\n",
            "Epoch 9/10\n",
            "1875/1875 [==============================] - 6s 3ms/step - loss: 0.0169 - accuracy: 0.9948 - val_loss: 0.0406 - val_accuracy: 0.9898\n",
            "Epoch 10/10\n",
            "1875/1875 [==============================] - 6s 3ms/step - loss: 0.0156 - accuracy: 0.9952 - val_loss: 0.0353 - val_accuracy: 0.9908\n"
          ],
          "name": "stdout"
        }
      ]
    },
    {
      "cell_type": "code",
      "metadata": {
        "id": "-UjK7vVMGg6i",
        "outputId": "e7576709-6cc7-4d22-e23a-11e866ca748d",
        "colab": {
          "base_uri": "https://localhost:8080/"
        }
      },
      "source": [
        "test_loss, test_acc = model.evaluate(X_Test, Y_Test, verbose=2)\n",
        "print(test_acc)"
      ],
      "execution_count": 6,
      "outputs": [
        {
          "output_type": "stream",
          "text": [
            "313/313 - 1s - loss: 0.0353 - accuracy: 0.9908\n",
            "0.9908000230789185\n"
          ],
          "name": "stdout"
        }
      ]
    }
  ]
}